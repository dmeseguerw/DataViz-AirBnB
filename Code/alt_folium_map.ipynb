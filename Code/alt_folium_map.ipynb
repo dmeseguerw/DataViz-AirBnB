{
 "cells": [
  {
   "cell_type": "code",
   "execution_count": null,
   "metadata": {},
   "outputs": [],
   "source": [
    "import numpy as np\n",
    "import matplotlib as plt\n",
    "import pandas as pd\n",
    "import os\n",
    "import matplotlib.pyplot as plt\n",
    "from matplotlib.pyplot import figure\n",
    "import pathlib\n",
    "import datetime\n",
    "from   datetime import datetime\n",
    "import seaborn as sns\n",
    "import missingno as msno\n",
    "import warnings\n",
    "import folium\n",
    "from folium.plugins import FastMarkerCluster\n",
    "import geopandas as gpd\n",
    "from branca.colormap import LinearColormap"
   ]
  },
  {
   "cell_type": "code",
   "execution_count": null,
   "metadata": {},
   "outputs": [],
   "source": [
    "dataframe = pd.read_csv(\"../data/listings(Sept).csv\")"
   ]
  },
  {
   "cell_type": "code",
   "execution_count": null,
   "metadata": {},
   "outputs": [],
   "source": [
    "dataframe.head()"
   ]
  },
  {
   "cell_type": "code",
   "execution_count": null,
   "metadata": {},
   "outputs": [],
   "source": [
    "msno.matrix(dataframe)"
   ]
  },
  {
   "cell_type": "code",
   "execution_count": null,
   "metadata": {},
   "outputs": [],
   "source": [
    "dataframe = dataframe.drop(['neighbourhood_group'], axis=1)"
   ]
  },
  {
   "cell_type": "code",
   "execution_count": null,
   "metadata": {},
   "outputs": [],
   "source": [
    "dataframe = dataframe.drop([\"license\"], axis=1)"
   ]
  },
  {
   "cell_type": "code",
   "execution_count": null,
   "metadata": {},
   "outputs": [],
   "source": [
    "msno.matrix(dataframe)"
   ]
  },
  {
   "cell_type": "code",
   "execution_count": null,
   "metadata": {},
   "outputs": [],
   "source": [
    "dataframe[\"neighbourhood\"].unique()"
   ]
  },
  {
   "cell_type": "code",
   "execution_count": null,
   "metadata": {},
   "outputs": [],
   "source": [
    "dataframe['neighbourhood'] = dataframe['neighbourhood'].str.replace(\"Nrrebro\", \"Nørrebro\")\n",
    "dataframe['neighbourhood'] = dataframe['neighbourhood'].str.replace(\"sterbro\", \"Vesterbro\")\n",
    "dataframe['neighbourhood'] = dataframe['neighbourhood'].str.replace(\"Vanlse\", \"Vanløse\")\n",
    "dataframe['neighbourhood'] = dataframe['neighbourhood'].str.replace(\"Brnshj-Husum\", \"Brønshøj-Husum\")\n",
    "dataframe['neighbourhood'] = dataframe['neighbourhood'].str.replace(\"VeVesterbro-Kongens Enghave\", \"Vesterbro-Kongens Enghave\")\n"
   ]
  },
  {
   "cell_type": "code",
   "execution_count": null,
   "metadata": {},
   "outputs": [],
   "source": [
    "dataframe[\"neighbourhood\"].unique()"
   ]
  },
  {
   "cell_type": "code",
   "execution_count": null,
   "metadata": {},
   "outputs": [],
   "source": [
    "attr1 = ('&copy; <a href=\"https://www.openstreetmap.org/copyright\">OpenStreetMap</a> contributors &copy; <a href=\"https://carto.com/attributions\">CARTO</a>')\n",
    "tiles1 = 'https://{s}.basemaps.cartocdn.com/light_all/{z}/{x}/{y}{r}.png'\n",
    "\n",
    "attr2 = ('&copy; <a href=\"https://www.openstreetmap.org/copyright\">OpenStreetMap</a> contributors &copy; <a href=\"https://carto.com/attributions\">CARTO</a>')\n",
    "tiles2 = 'https://{s}.basemaps.cartocdn.com/rastertiles/voyager/{z}/{x}/{y}{r}.png'\n",
    "\n"
   ]
  },
  {
   "cell_type": "code",
   "execution_count": null,
   "metadata": {},
   "outputs": [],
   "source": [
    "import folium.raster_layers\n",
    "\n",
    "\n",
    "lats = dataframe['latitude'].tolist()\n",
    "lons = dataframe['longitude'].tolist()\n",
    "locations = list(zip(lats, lons))\n",
    "mean_lat = dataframe['latitude'].mean()\n",
    "mean_long = dataframe['longitude'].mean()\n",
    "\n",
    "map1 = folium.Map(location=[mean_lat, mean_long], zoom_start=11.5, tiles=tiles2, attr=attr2)\n",
    "FastMarkerCluster(data=locations).add_to(map1)\n",
    "\n",
    "map1\n",
    "map1.save(\"sb-alt-folium.map.html\")"
   ]
  },
  {
   "cell_type": "code",
   "execution_count": null,
   "metadata": {},
   "outputs": [],
   "source": [
    "color = \"#fcba03\"\n",
    "\n",
    "bargraph = dataframe.groupby('neighbourhood')['price'].mean().sort_values(ascending=True)\n",
    "bargraph.plot.barh(figsize=(10, 8), color=color, width=0.5)\n",
    "plt.title(\"Average daily price \", fontsize=20)\n",
    "plt.xlabel('Average daily price (DKK)', fontsize=12)\n",
    "plt.ylabel(\"\")\n",
    "plt.show()"
   ]
  },
  {
   "cell_type": "code",
   "execution_count": null,
   "metadata": {},
   "outputs": [],
   "source": [
    "df_filtered = dataframe\n",
    "\n",
    "\n",
    "sns.set_theme(style=\"white\", rc={\"axes.facecolor\": (0, 0, 0, 0), 'axes.linewidth':2})\n",
    "palette = sns.color_palette(\"Set2\", 12)\n",
    "g = sns.FacetGrid(df_filtered, palette=palette, row=\"neighbourhood\", hue=\"neighbourhood\", aspect=9, height=1.4)\n",
    "g.map_dataframe(sns.kdeplot,x=\"price\", fill=True, alpha=1)\n",
    "g.map_dataframe(sns.kdeplot, x=\"price\", color='black')\n",
    "def label(x, color, label):\n",
    "    ax = plt.gca()\n",
    "    ax.text(0, .2, label, color='black', fontsize=13,\n",
    "            ha=\"left\", va=\"center\", transform=ax.transAxes)\n",
    "    \n",
    "g.map(label, \"neighbourhood\")\n",
    "g.fig.subplots_adjust(hspace=-.5)\n",
    "g.set_titles(\"\")\n",
    "g.set(yticks=[], xlabel=\"Prices\")\n",
    "g.despine( left=True)\n",
    "plt.suptitle('Price density by neighborhoods', y=0.98)\n",
    "g.set(xlim=(0,4000))"
   ]
  },
  {
   "cell_type": "code",
   "execution_count": null,
   "metadata": {},
   "outputs": [],
   "source": []
  }
 ],
 "metadata": {
  "kernelspec": {
   "display_name": "social",
   "language": "python",
   "name": "python3"
  },
  "language_info": {
   "codemirror_mode": {
    "name": "ipython",
    "version": 3
   },
   "file_extension": ".py",
   "mimetype": "text/x-python",
   "name": "python",
   "nbconvert_exporter": "python",
   "pygments_lexer": "ipython3",
   "version": "3.10.14"
  }
 },
 "nbformat": 4,
 "nbformat_minor": 2
}
