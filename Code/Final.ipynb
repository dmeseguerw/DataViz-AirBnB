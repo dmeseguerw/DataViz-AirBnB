{
 "cells": [
  {
   "cell_type": "markdown",
   "metadata": {},
   "source": [
    "# Final Project"
   ]
  },
  {
   "cell_type": "markdown",
   "metadata": {},
   "source": [
    "# Table of Contents\n",
    "1. [Motivation](#Motivation)\n",
    "   - [Dataset Overview](#Dataset-Overview)\n",
    "   - [Selection Rationale](#Selection-Rationale)\n",
    "   - [Goal for End User's Experience](#Goal-for-End-Users-Experience)\n",
    "2. [Basic Stats](#Basic-Stats)\n",
    "   - [Data Cleaning and Preprocessing](#Data-Cleaning-and-Preprocessing)\n",
    "   - [Exploratory Data Analysis](#Exploratory-Data-Analysis)\n",
    "3. [Data Analysis](#Data-Analysis)\n",
    "   - [Analysis Insights](#Analysis-Insights)\n",
    "4. [Genre and Tools](#Genre-and-Tools)\n",
    "   - [Data Story Genre](#Data-Story-Genre)\n",
    "   - [Visual Narrative Tools](#Visual-Narrative-Tools)\n",
    "   - [Narrative Structure Tools](#Narrative-Structure-Tools)\n",
    "5. [Visualizations](#Visualizations)\n",
    "   - [Chosen Visualizations](#Chosen-Visualizations)\n",
    "   - [Rationale Behind Visual Choices](#Rationale-Behind-Visual-Choices)\n",
    "6. [Discussion](#Discussion)\n",
    "   - [Project Successes](#Project-Successes)\n",
    "   - [Areas for Improvement](#Areas-for-Improvement)\n",
    "7. [Contributions](#Contributions)\n",
    "   - [Individual Contributions](#Individual-Contributions)"
   ]
  },
  {
   "cell_type": "markdown",
   "metadata": {},
   "source": [
    "## Motivation"
   ]
  },
  {
   "cell_type": "markdown",
   "metadata": {},
   "source": [
    "### Dataset Overview"
   ]
  },
  {
   "cell_type": "markdown",
   "metadata": {},
   "source": [
    "### Selection Rationale"
   ]
  },
  {
   "cell_type": "markdown",
   "metadata": {},
   "source": [
    "### Goal for End User's Experience"
   ]
  },
  {
   "cell_type": "markdown",
   "metadata": {},
   "source": [
    "## Basic Stats"
   ]
  },
  {
   "cell_type": "markdown",
   "metadata": {},
   "source": [
    "### Data Cleaning and Preprocessing"
   ]
  },
  {
   "cell_type": "markdown",
   "metadata": {},
   "source": [
    "### Exploratory Data Analysis"
   ]
  },
  {
   "cell_type": "markdown",
   "metadata": {},
   "source": [
    "## Data Analysis"
   ]
  },
  {
   "cell_type": "markdown",
   "metadata": {},
   "source": [
    "### Analysis Insights"
   ]
  },
  {
   "cell_type": "markdown",
   "metadata": {},
   "source": [
    "## Genre and Tools"
   ]
  },
  {
   "cell_type": "markdown",
   "metadata": {},
   "source": [
    "### Data Story Genre"
   ]
  },
  {
   "cell_type": "markdown",
   "metadata": {},
   "source": [
    "### Visual Narrative Tools"
   ]
  },
  {
   "cell_type": "markdown",
   "metadata": {},
   "source": [
    "### Narrative Structure Tools"
   ]
  },
  {
   "cell_type": "markdown",
   "metadata": {},
   "source": [
    "## Visualizations"
   ]
  },
  {
   "cell_type": "markdown",
   "metadata": {},
   "source": [
    "### Chosen Visualizations"
   ]
  },
  {
   "cell_type": "markdown",
   "metadata": {},
   "source": [
    "### Rationale Behind Visual Choices"
   ]
  },
  {
   "cell_type": "markdown",
   "metadata": {},
   "source": [
    "## Discussion"
   ]
  },
  {
   "cell_type": "markdown",
   "metadata": {},
   "source": [
    "### Project Successes"
   ]
  },
  {
   "cell_type": "markdown",
   "metadata": {},
   "source": [
    "### Areas for Improvement"
   ]
  },
  {
   "cell_type": "markdown",
   "metadata": {},
   "source": [
    "## Contributions"
   ]
  },
  {
   "cell_type": "markdown",
   "metadata": {},
   "source": [
    "### Individual Contributions"
   ]
  },
  {
   "cell_type": "markdown",
   "metadata": {},
   "source": []
  }
 ],
 "metadata": {
  "language_info": {
   "name": "python"
  }
 },
 "nbformat": 4,
 "nbformat_minor": 2
}
